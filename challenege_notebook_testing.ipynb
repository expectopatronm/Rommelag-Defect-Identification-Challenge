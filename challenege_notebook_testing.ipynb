{
 "cells": [
  {
   "cell_type": "code",
   "execution_count": null,
   "outputs": [],
   "source": [
    "import torch\n",
    "import torchvision.models as models\n",
    "import torchvision.transforms as transforms\n",
    "\n",
    "import numpy as np\n",
    "import matplotlib.pyplot as plt\n",
    "import cv2\n",
    "\n",
    "import re\n",
    "import os\n",
    "\n",
    "from PIL import Image\n",
    "\n",
    "from sklearn import svm, metrics\n",
    "from sklearn.metrics import confusion_matrix\n",
    "from sklearn.model_selection import train_test_split\n",
    "\n",
    "from keras.models import Sequential, load_model\n",
    "from keras.layers import Activation, Dense, BatchNormalization\n",
    "from keras.callbacks import ModelCheckpoint\n",
    "\n",
    "import pickle"
   ],
   "metadata": {
    "collapsed": false,
    "pycharm": {
     "name": "#%%\n"
    }
   }
  },
  {
   "cell_type": "code",
   "execution_count": null,
   "outputs": [],
   "source": [
    "good_dir = 'PIM_Dataset/good_piece/'\n",
    "bad_dir = 'PIM_Dataset/bad_piece/'"
   ],
   "metadata": {
    "collapsed": false,
    "pycharm": {
     "name": "#%%\n"
    }
   }
  },
  {
   "cell_type": "code",
   "execution_count": null,
   "outputs": [],
   "source": [
    "device = torch.device(\"cuda\")\n",
    "\n",
    "model = models.resnet101(pretrained = True)\n",
    "extraction_layer = model._modules.get('avgpool')\n",
    "layer_output_size = 2048\n",
    "\n",
    "model.to(device)\n",
    "model.eval()"
   ],
   "metadata": {
    "collapsed": false,
    "pycharm": {
     "name": "#%%\n"
    }
   }
  },
  {
   "cell_type": "code",
   "execution_count": null,
   "outputs": [],
   "source": [
    "def feature_extractor(img, tensor = False):\n",
    "\n",
    "    custom_transforms = transforms.Compose([transforms.Resize((512, 512)),\n",
    "                                            transforms.ToTensor(),\n",
    "                                            transforms.Normalize(mean=[0.485, 0.456, 0.406],\n",
    "                                                                 std=[0.229, 0.224, 0.225])])\n",
    "\n",
    "    image = custom_transforms(img).unsqueeze(0).to(device)\n",
    "    my_embedding = torch.zeros(1, layer_output_size, 1, 1)\n",
    "\n",
    "    def copy_data(m, i, o):\n",
    "        my_embedding.copy_(o.data)\n",
    "\n",
    "    h = extraction_layer.register_forward_hook(copy_data)\n",
    "    model(image)\n",
    "    h.remove()\n",
    "\n",
    "    if tensor:\n",
    "        return my_embedding\n",
    "    else:\n",
    "        return my_embedding.numpy()[0, :, 0, 0]"
   ],
   "metadata": {
    "collapsed": false,
    "pycharm": {
     "name": "#%%\n"
    }
   }
  },
  {
   "cell_type": "code",
   "execution_count": null,
   "outputs": [],
   "source": [
    "#data preperation\n",
    "def feature_extracted_rgb_array_creator():\n",
    "    my_array = np.zeros((2055, 2464, 3))\n",
    "    i = 0\n",
    "    good_list = []\n",
    "    for file in os.listdir(good_dir):\n",
    "\n",
    "        my_array[:,:,i] = cv2.imread(good_dir + file, 0)\n",
    "        i += 1\n",
    "\n",
    "        if i == 3:\n",
    "            i = 0\n",
    "            img = Image.fromarray(my_array.astype(np.uint8))\n",
    "            feature_vec = feature_extractor(img, tensor = False)\n",
    "            good_list.append(feature_vec)\n",
    "\n",
    "    my_array = np.zeros((2055, 2464, 3))\n",
    "    i = 0\n",
    "    bad_list = []\n",
    "    for file in os.listdir(bad_dir):\n",
    "\n",
    "        my_array[:,:,i] = cv2.imread(bad_dir + file, 0)\n",
    "        i += 1\n",
    "\n",
    "        if i == 3:\n",
    "            i = 0\n",
    "            img = Image.fromarray(my_array.astype(np.uint8))\n",
    "            feature_vec = feature_extractor(img, tensor = False)\n",
    "            bad_list.append(feature_vec)\n",
    "\n",
    "    good_array = np.asarray(good_list)\n",
    "    bad_array = np.asarray(bad_list)\n",
    "\n",
    "    return good_array, bad_array\n",
    "\n",
    "def bad_piece_splitter():\n",
    "    my_array_chared = np.zeros((2055, 2464, 3))\n",
    "    my_array_metal = np.zeros((2055, 2464, 3))\n",
    "    my_array_gasket = np.zeros((2055, 2464, 3))\n",
    "\n",
    "    i = 0\n",
    "    j = 0\n",
    "    k = 0\n",
    "\n",
    "    bad_chared_list = []\n",
    "    bad_metal_list = []\n",
    "    bad_gasket_list = []\n",
    "\n",
    "    for file in os.listdir(bad_dir):\n",
    "       if re.match('chared', file):\n",
    "            my_array_chared[:,:,i] = cv2.imread(bad_dir + file, 0)\n",
    "            i += 1\n",
    "\n",
    "            if i == 3:\n",
    "                i = 0\n",
    "                img = Image.fromarray(my_array_chared.astype(np.uint8))\n",
    "                feature_vec = feature_extractor(img, tensor = False)\n",
    "                bad_chared_list.append(feature_vec)\n",
    "\n",
    "       if re.match('metal', file):\n",
    "            my_array_metal[:,:,j] = cv2.imread(bad_dir + file, 0)\n",
    "            j += 1\n",
    "\n",
    "            if j == 3:\n",
    "                j = 0\n",
    "                img = Image.fromarray(my_array_metal.astype(np.uint8))\n",
    "                feature_vec = feature_extractor(img, tensor = False)\n",
    "                bad_metal_list.append(feature_vec)\n",
    "\n",
    "       if re.match('gasket', file):\n",
    "            my_array_gasket[:,:,k] = cv2.imread(bad_dir + file, 0)\n",
    "            k += 1\n",
    "\n",
    "            if k == 3:\n",
    "                k = 0\n",
    "                img = Image.fromarray(my_array_gasket.astype(np.uint8))\n",
    "                feature_vec = feature_extractor(img, tensor = False)\n",
    "                bad_gasket_list.append(feature_vec)\n",
    "\n",
    "\n",
    "    bad_chared_array = np.asarray(bad_chared_list)\n",
    "    bad_metal_array = np.asarray(bad_metal_list)\n",
    "    bad_gasket_array = np.asarray(bad_gasket_list)\n",
    "\n",
    "    return bad_chared_array, bad_metal_array, bad_gasket_array"
   ],
   "metadata": {
    "collapsed": false,
    "pycharm": {
     "name": "#%%\n"
    }
   }
  },
  {
   "cell_type": "code",
   "execution_count": null,
   "outputs": [],
   "source": [
    "good_array, bad_array = feature_extracted_rgb_array_creator()\n",
    "\n",
    "y_good = np.ones((good_array.shape[0]))\n",
    "y_bad = np.zeros((bad_array.shape[0]))\n",
    "\n",
    "X_good_bad = np.concatenate((good_array, bad_array))\n",
    "y_good_bad = np.concatenate((y_good, y_bad))\n",
    "\n",
    "bad_chared_array, bad_metal_array, bad_gasket_array = bad_piece_splitter()\n",
    "\n",
    "y_chared = np.zeros((bad_chared_array.shape[0]))\n",
    "y_metal = np.ones((bad_metal_array.shape[0]))\n",
    "y_gasket = np.full((bad_gasket_array.shape[0]), 2)\n",
    "\n",
    "X_bad = np.concatenate((bad_chared_array, bad_metal_array, bad_gasket_array))\n",
    "y_bad = np.concatenate((y_chared, y_metal, y_gasket))"
   ],
   "metadata": {
    "collapsed": false,
    "pycharm": {
     "name": "#%%\n"
    }
   }
  },
  {
   "cell_type": "code",
   "execution_count": null,
   "outputs": [],
   "source": [
    "def initialize_cnn():\n",
    "    cnn_model = Sequential()\n",
    "    cnn_model.add(Dense(256))\n",
    "    cnn_model.add(BatchNormalization())\n",
    "    cnn_model.add(Activation('relu'))\n",
    "    cnn_model.add(Dense(1, activation='sigmoid'))\n",
    "    cnn_model.compile(optimizer='adam',\n",
    "                  loss='binary_crossentropy', metrics=['accuracy'])\n",
    "    return cnn_model"
   ],
   "metadata": {
    "collapsed": false,
    "pycharm": {
     "name": "#%%\n"
    }
   }
  },
  {
   "cell_type": "code",
   "execution_count": null,
   "outputs": [],
   "source": [
    "# Training phases\n",
    "X_train, X_test, y_train, y_test = train_test_split(\n",
    "    X_good_bad, y_good_bad, test_size = 0.25, shuffle = True)\n",
    "\n",
    "epochs = 25\n",
    "batch_size = 16\n",
    "\n",
    "cnn_model = initialize_cnn()\n",
    "cnn_model.fit(X_train, y_train,\n",
    "              epochs=epochs,\n",
    "              batch_size=batch_size,\n",
    "              validation_data=(X_test, y_test),\n",
    "              callbacks=[ModelCheckpoint('cnn_model_saved.hdf5',\n",
    "              save_best_only = True, monitor = 'val_loss', mode = 'min')])"
   ],
   "metadata": {
    "collapsed": false,
    "pycharm": {
     "name": "#%%\n"
    }
   }
  },
  {
   "cell_type": "code",
   "execution_count": null,
   "outputs": [],
   "source": [
    "cnn_model.load_weights('cnn_model_saved.hdf5')\n",
    "y_pred = cnn_model.predict_classes(X_test)"
   ],
   "metadata": {
    "collapsed": false,
    "pycharm": {
     "name": "#%%\n"
    }
   }
  },
  {
   "cell_type": "code",
   "execution_count": null,
   "outputs": [],
   "source": [
    "print('Acuuracy: {}'.format(metrics.accuracy_score(y_test, y_pred)))\n",
    "print('Precision: {}'.format(metrics.precision_score(y_test, y_pred)))\n",
    "print('Recall: {}'.format(metrics.recall_score(y_test, y_pred)))\n",
    "print('F1_score: {}'.format(metrics.f1_score(y_test, y_pred)))\n",
    "tn, fp, fn, tp = confusion_matrix(y_test, y_pred).ravel()\n",
    "specificity = tn / (tn+fp)\n",
    "print('Specificity: {}'.format(specificity))\n",
    "\n",
    "labels = ['Good', 'Bad']\n",
    "\n",
    "cfm = confusion_matrix(y_test, y_pred)\n",
    "\n",
    "plt.imshow(cfm)\n",
    "for y in range(cfm.shape[0]):\n",
    "    for x in range(cfm.shape[1]):\n",
    "        plt.text(x, y, '%.4f' % cfm[y, x],\n",
    "                 horizontalalignment='center',\n",
    "                 verticalalignment='center',\n",
    "                 c='w', weight= 10)\n",
    "\n",
    "plt.xlabel('Predicted')\n",
    "plt.ylabel('True')\n",
    "plt.xlabel(labels)\n",
    "plt.ylabel(labels)\n",
    "plt.colorbar()\n",
    "plt.xticks([])\n",
    "plt.yticks([])\n",
    "plt.tight_layout()\n",
    "plt.title('Confusion Matrix')\n",
    "plt.show()"
   ],
   "metadata": {
    "collapsed": false,
    "pycharm": {
     "name": "#%%\n"
    }
   }
  },
  {
   "cell_type": "code",
   "execution_count": null,
   "outputs": [],
   "source": [
    "X_train, X_test, y_train, y_test = train_test_split(\n",
    "    X_bad, y_bad, test_size = 0.15, shuffle = True)\n",
    "\n",
    "classifier = svm.SVC(gamma = 'auto', kernel = 'linear')\n",
    "classifier.fit(X_train, y_train)\n",
    "pickle.dump(classifier, open('svm_model.sav', 'wb'))"
   ],
   "metadata": {
    "collapsed": false,
    "pycharm": {
     "name": "#%%\n"
    }
   }
  },
  {
   "cell_type": "code",
   "execution_count": null,
   "outputs": [],
   "source": [
    "clasifier = pickle.load(open('svm_model.sav', 'rb'))\n",
    "y_pred = classifier.predict(X_test)"
   ],
   "metadata": {
    "collapsed": false,
    "pycharm": {
     "name": "#%%\n"
    }
   }
  },
  {
   "cell_type": "code",
   "execution_count": null,
   "outputs": [],
   "source": [
    "print('Acuuracy: {}'.format(metrics.accuracy_score(y_test, y_pred)))\n",
    "print('Precision: {}'.format(metrics.precision_score(y_test, y_pred, average=None)))\n",
    "print('Recall: {}'.format(metrics.recall_score(y_test, y_pred, average=None)))\n",
    "print('F1_score: {}'.format(metrics.f1_score(y_test, y_pred, average=None)))\n",
    "\n",
    "labels = ['Charred', 'Gasket', 'Metal']\n",
    "cfm = confusion_matrix(y_test, y_pred)\n",
    "\n",
    "plt.imshow(cfm)\n",
    "for y in range(cfm.shape[0]):\n",
    "    for x in range(cfm.shape[1]):\n",
    "        plt.text(x, y, '%.4f' % cfm[y, x],\n",
    "                 horizontalalignment='center',\n",
    "                 verticalalignment='center',\n",
    "                 c='w', weight= 10)\n",
    "\n",
    "plt.xlabel('Predicted')\n",
    "plt.ylabel('True')\n",
    "plt.xlabel(labels)\n",
    "plt.ylabel(labels)\n",
    "plt.colorbar()\n",
    "plt.xticks([])\n",
    "plt.yticks([])\n",
    "plt.tight_layout()\n",
    "plt.title('Confusion Matrix')\n",
    "plt.show()"
   ],
   "metadata": {
    "collapsed": false,
    "pycharm": {
     "name": "#%%\n"
    }
   }
  },
  {
   "cell_type": "code",
   "execution_count": null,
   "outputs": [],
   "source": [
    "cnn_model = load_model('cnn_model_saved.hdf5')\n",
    "svm_model = pickle.load(open('svm_model.sav', 'rb'))"
   ],
   "metadata": {
    "collapsed": false,
    "pycharm": {
     "name": "#%%\n"
    }
   }
  },
  {
   "cell_type": "code",
   "execution_count": null,
   "outputs": [],
   "source": [
    "def interface(image):\n",
    "\n",
    "    my_dict_g_b = {0:'Bad Piece', 1:'Good Piece'}\n",
    "    my_dict_b = {0: 'Charred', 1: 'Gasket', 2: 'Metal'}\n",
    "\n",
    "    my_img = cv2.imread(image)\n",
    "    my_img = Image.fromarray(my_img.astype(np.uint8))\n",
    "    m = feature_extractor(my_img).reshape(1, -1)\n",
    "\n",
    "    cnn_predicted_class = cnn_model.predict_classes(m)[0][0]\n",
    "    print(my_dict_g_b[cnn_predicted_class])\n",
    "\n",
    "    if cnn_predicted_class == 0:\n",
    "        svm_predicted_class = svm_model.predict(m)[0]\n",
    "        print(my_dict_b[svm_predicted_class])"
   ],
   "metadata": {
    "collapsed": false,
    "pycharm": {
     "name": "#%%\n"
    }
   }
  },
  {
   "cell_type": "code",
   "execution_count": 26,
   "outputs": [
    {
     "name": "stdout",
     "output_type": "stream",
     "text": [
      "Bad Piece\n",
      "Gasket\n"
     ]
    }
   ],
   "source": [
    "my_img = 'PIM_Dataset/bad_piece/gasket16_3.bmp'\n",
    "interface(my_img)"
   ],
   "metadata": {
    "collapsed": false,
    "pycharm": {
     "name": "#%%\n"
    }
   }
  },
  {
   "cell_type": "markdown",
   "source": [
    "## Testing Section"
   ],
   "metadata": {
    "collapsed": false,
    "pycharm": {
     "name": "#%% md\n"
    }
   }
  },
  {
   "cell_type": "code",
   "execution_count": 27,
   "outputs": [],
   "source": [
    "good_dir_test = 'PIM_Testing/good_piece/'\n",
    "bad_dir_test = 'PIM_Testing/bad_piece/'\n",
    "\n",
    "def feature_extracted_rgb_array_creator():\n",
    "    my_array = np.zeros((2055, 2464, 3))\n",
    "    i = 0\n",
    "    good_list = []\n",
    "    for file in os.listdir(good_dir_test):\n",
    "\n",
    "        my_array[:,:,i] = cv2.imread(good_dir_test + file, 0)\n",
    "        i += 1\n",
    "\n",
    "        if i == 3:\n",
    "            i = 0\n",
    "            img = Image.fromarray(my_array.astype(np.uint8))\n",
    "            feature_vec = feature_extractor(img, tensor = False)\n",
    "            good_list.append(feature_vec)\n",
    "\n",
    "    my_array = np.zeros((2055, 2464, 3))\n",
    "    i = 0\n",
    "    bad_list = []\n",
    "    for file in os.listdir(bad_dir_test):\n",
    "\n",
    "        my_array[:,:,i] = cv2.imread(bad_dir_test + file, 0)\n",
    "        i += 1\n",
    "\n",
    "        if i == 3:\n",
    "            i = 0\n",
    "            img = Image.fromarray(my_array.astype(np.uint8))\n",
    "            feature_vec = feature_extractor(img, tensor = False)\n",
    "            bad_list.append(feature_vec)\n",
    "\n",
    "    good_array = np.asarray(good_list)\n",
    "    bad_array = np.asarray(bad_list)\n",
    "\n",
    "    return good_array, bad_array\n",
    "\n",
    "good_array_test, bad_array_test = feature_extracted_rgb_array_creator()"
   ],
   "metadata": {
    "collapsed": false,
    "pycharm": {
     "name": "#%%\n"
    }
   }
  },
  {
   "cell_type": "code",
   "execution_count": 32,
   "outputs": [],
   "source": [
    "y_good_test = np.ones((good_array_test.shape[0]))\n",
    "y_bad_test = np.zeros((bad_array_test.shape[0]))\n",
    "\n",
    "X_good_bad_test = np.concatenate((good_array_test, bad_array_test))\n",
    "y_good_bad_test = np.concatenate((y_good_test, y_bad_test))"
   ],
   "metadata": {
    "collapsed": false,
    "pycharm": {
     "name": "#%%\n"
    }
   }
  },
  {
   "cell_type": "code",
   "execution_count": 33,
   "outputs": [],
   "source": [
    "y_pred_test = cnn_model.predict_classes(X_good_bad_test)"
   ],
   "metadata": {
    "collapsed": false,
    "pycharm": {
     "name": "#%%\n"
    }
   }
  },
  {
   "cell_type": "code",
   "execution_count": 34,
   "outputs": [
    {
     "name": "stdout",
     "output_type": "stream",
     "text": [
      "Acuuracy: 1.0\n",
      "Precision: 1.0\n",
      "Recall: 1.0\n",
      "F1_score: 1.0\n",
      "Specificity: 1.0\n"
     ]
    },
    {
     "data": {
      "text/plain": "<Figure size 432x288 with 2 Axes>",
      "image/png": "[encoded data removed]"
     },
     "metadata": {
      "needs_background": "light"
     },
     "output_type": "display_data"
    }
   ],
   "source": [
    "print('Acuuracy: {}'.format(metrics.accuracy_score(y_good_bad_test, y_pred_test)))\n",
    "print('Precision: {}'.format(metrics.precision_score(y_good_bad_test, y_pred_test)))\n",
    "print('Recall: {}'.format(metrics.recall_score(y_good_bad_test, y_pred_test)))\n",
    "print('F1_score: {}'.format(metrics.f1_score(y_good_bad_test, y_pred_test)))\n",
    "tn, fp, fn, tp = confusion_matrix(y_good_bad_test, y_pred_test).ravel()\n",
    "specificity = tn / (tn+fp)\n",
    "print('Specificity: {}'.format(specificity))\n",
    "\n",
    "labels = ['Good', 'Bad']\n",
    "\n",
    "cfm = confusion_matrix(y_good_bad_test, y_pred_test)\n",
    "\n",
    "plt.imshow(cfm)\n",
    "for y in range(cfm.shape[0]):\n",
    "    for x in range(cfm.shape[1]):\n",
    "        plt.text(x, y, '%.4f' % cfm[y, x],\n",
    "                 horizontalalignment='center',\n",
    "                 verticalalignment='center',\n",
    "                 c='w', weight= 10)\n",
    "\n",
    "plt.xlabel('Predicted')\n",
    "plt.ylabel('True')\n",
    "plt.xlabel(labels)\n",
    "plt.ylabel(labels)\n",
    "plt.colorbar()\n",
    "plt.xticks([])\n",
    "plt.yticks([])\n",
    "plt.tight_layout()\n",
    "plt.title('Confusion Matrix')\n",
    "plt.show()\n"
   ],
   "metadata": {
    "collapsed": false,
    "pycharm": {
     "name": "#%%\n"
    }
   }
  },
  {
   "cell_type": "code",
   "execution_count": 36,
   "outputs": [],
   "source": [
    "def bad_piece_splitter():\n",
    "    my_array_chared = np.zeros((2055, 2464, 3))\n",
    "    my_array_metal = np.zeros((2055, 2464, 3))\n",
    "    my_array_gasket = np.zeros((2055, 2464, 3))\n",
    "\n",
    "    i = 0\n",
    "    j = 0\n",
    "    k = 0\n",
    "\n",
    "    bad_chared_list = []\n",
    "    bad_metal_list = []\n",
    "    bad_gasket_list = []\n",
    "\n",
    "    for file in os.listdir(bad_dir_test):\n",
    "       if re.match('chared', file):\n",
    "            my_array_chared[:,:,i] = cv2.imread(bad_dir_test + file, 0)\n",
    "            i += 1\n",
    "\n",
    "            if i == 3:\n",
    "                i = 0\n",
    "                img = Image.fromarray(my_array_chared.astype(np.uint8))\n",
    "                feature_vec = feature_extractor(img, tensor = False)\n",
    "                bad_chared_list.append(feature_vec)\n",
    "\n",
    "       if re.match('metal', file):\n",
    "            my_array_metal[:,:,j] = cv2.imread(bad_dir_test + file, 0)\n",
    "            j += 1\n",
    "\n",
    "            if j == 3:\n",
    "                j = 0\n",
    "                img = Image.fromarray(my_array_metal.astype(np.uint8))\n",
    "                feature_vec = feature_extractor(img, tensor = False)\n",
    "                bad_metal_list.append(feature_vec)\n",
    "\n",
    "       if re.match('gasket', file):\n",
    "            my_array_gasket[:,:,k] = cv2.imread(bad_dir_test + file, 0)\n",
    "            k += 1\n",
    "\n",
    "            if k == 3:\n",
    "                k = 0\n",
    "                img = Image.fromarray(my_array_gasket.astype(np.uint8))\n",
    "                feature_vec = feature_extractor(img, tensor = False)\n",
    "                bad_gasket_list.append(feature_vec)\n",
    "\n",
    "\n",
    "    bad_chared_array = np.asarray(bad_chared_list)\n",
    "    bad_metal_array = np.asarray(bad_metal_list)\n",
    "    bad_gasket_array = np.asarray(bad_gasket_list)\n",
    "\n",
    "    return bad_chared_array, bad_metal_array, bad_gasket_array"
   ],
   "metadata": {
    "collapsed": false,
    "pycharm": {
     "name": "#%%\n"
    }
   }
  },
  {
   "cell_type": "code",
   "execution_count": 37,
   "outputs": [],
   "source": [
    "bad_chared_array_test, bad_metal_array_test, bad_gasket_array_test = bad_piece_splitter()\n",
    "\n",
    "y_chared_test = np.zeros((bad_chared_array_test.shape[0]))\n",
    "y_metal_test = np.ones((bad_metal_array_test.shape[0]))\n",
    "y_gasket_test = np.full((bad_gasket_array_test.shape[0]), 2)\n",
    "\n",
    "X_bad_test = np.concatenate((bad_chared_array_test, bad_metal_array_test, bad_gasket_array_test))\n",
    "y_bad_test = np.concatenate((y_chared_test, y_metal_test, y_gasket_test))"
   ],
   "metadata": {
    "collapsed": false,
    "pycharm": {
     "name": "#%%\n"
    }
   }
  },
  {
   "cell_type": "code",
   "execution_count": 38,
   "outputs": [],
   "source": [
    "y_pred_test = classifier.predict(X_bad_test)"
   ],
   "metadata": {
    "collapsed": false,
    "pycharm": {
     "name": "#%%\n"
    }
   }
  },
  {
   "cell_type": "code",
   "execution_count": 39,
   "outputs": [
    {
     "name": "stdout",
     "output_type": "stream",
     "text": [
      "Acuuracy: 0.7419354838709677\n",
      "Precision: [0.88888889 0.67647059 0.7       ]\n",
      "Recall: [0.66666667 0.88461538 0.58333333]\n",
      "F1_score: [0.76190476 0.76666667 0.63636364]\n"
     ]
    },
    {
     "data": {
      "text/plain": "<Figure size 432x288 with 2 Axes>",
      "image/png": "[encoded data removed]"
     },
     "metadata": {
      "needs_background": "light"
     },
     "output_type": "display_data"
    }
   ],
   "source": [
    "print('Acuuracy: {}'.format(metrics.accuracy_score(y_bad_test, y_pred_test)))\n",
    "print('Precision: {}'.format(metrics.precision_score(y_bad_test, y_pred_test, average=None)))\n",
    "print('Recall: {}'.format(metrics.recall_score(y_bad_test, y_pred_test, average=None)))\n",
    "print('F1_score: {}'.format(metrics.f1_score(y_bad_test, y_pred_test, average=None)))\n",
    "\n",
    "labels = ['Charred', 'Gasket', 'Metal']\n",
    "cfm = confusion_matrix(y_bad_test, y_pred_test)\n",
    "\n",
    "plt.imshow(cfm)\n",
    "for y in range(cfm.shape[0]):\n",
    "    for x in range(cfm.shape[1]):\n",
    "        plt.text(x, y, '%.4f' % cfm[y, x],\n",
    "                 horizontalalignment='center',\n",
    "                 verticalalignment='center',\n",
    "                 c='w', weight= 10)\n",
    "\n",
    "plt.xlabel('Predicted')\n",
    "plt.ylabel('True')\n",
    "plt.xlabel(labels)\n",
    "plt.ylabel(labels)\n",
    "plt.colorbar()\n",
    "plt.xticks([])\n",
    "plt.yticks([])\n",
    "plt.tight_layout()\n",
    "plt.title('Confusion Matrix')\n",
    "plt.show()"
   ],
   "metadata": {
    "collapsed": false,
    "pycharm": {
     "name": "#%%\n"
    }
   }
  },
  {
   "cell_type": "code",
   "execution_count": null,
   "outputs": [],
   "source": [
    "\n"
   ],
   "metadata": {
    "collapsed": false,
    "pycharm": {
     "name": "#%%\n"
    }
   }
  }
 ],
 "metadata": {
  "kernelspec": {
   "display_name": "Python 3",
   "language": "python",
   "name": "python3"
  },
  "language_info": {
   "codemirror_mode": {
    "name": "ipython",
    "version": 2
   },
   "file_extension": ".py",
   "mimetype": "text/x-python",
   "name": "python",
   "nbconvert_exporter": "python",
   "pygments_lexer": "ipython2",
   "version": "2.7.6"
  }
 },
 "nbformat": 4,
 "nbformat_minor": 0
}